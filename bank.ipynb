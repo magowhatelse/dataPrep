{
 "cells": [
  {
   "cell_type": "code",
   "execution_count": 174,
   "metadata": {},
   "outputs": [],
   "source": [
    "import pandas as pd\n",
    "import numpy as np\n",
    "import matplotlib.pyplot as plt\n",
    "import seaborn as sns\n",
    "from sklearn.preprocessing import MinMaxScaler, LabelEncoder\n",
    "from sklearn.model_selection import train_test_split\n",
    "from sklearn.ensemble import RandomForestClassifier\n",
    "from sklearn.metrics import classification_report"
   ]
  },
  {
   "cell_type": "code",
   "execution_count": 175,
   "metadata": {},
   "outputs": [],
   "source": [
    "df = pd.read_csv(\"Bank Customer Churn Prediction.csv\")"
   ]
  },
  {
   "cell_type": "markdown",
   "metadata": {},
   "source": [
    "# Data Exploration"
   ]
  },
  {
   "cell_type": "code",
   "execution_count": null,
   "metadata": {},
   "outputs": [],
   "source": [
    "df.head()"
   ]
  },
  {
   "cell_type": "code",
   "execution_count": null,
   "metadata": {},
   "outputs": [],
   "source": [
    "df.describe()"
   ]
  },
  {
   "cell_type": "code",
   "execution_count": null,
   "metadata": {},
   "outputs": [],
   "source": [
    "df.info()"
   ]
  },
  {
   "cell_type": "code",
   "execution_count": null,
   "metadata": {},
   "outputs": [],
   "source": [
    "df.isna().sum()[df.isna().sum() > 0]"
   ]
  },
  {
   "cell_type": "code",
   "execution_count": null,
   "metadata": {},
   "outputs": [],
   "source": [
    "df[\"gender\"].unique()"
   ]
  },
  {
   "cell_type": "code",
   "execution_count": null,
   "metadata": {},
   "outputs": [],
   "source": [
    "df[\"country\"].unique()"
   ]
  },
  {
   "cell_type": "markdown",
   "metadata": {},
   "source": [
    "# correcting typos"
   ]
  },
  {
   "cell_type": "code",
   "execution_count": null,
   "metadata": {},
   "outputs": [],
   "source": [
    "df[\"gender\"].replace({\n",
    "    \"Feme\": \"Female\",\n",
    "    \"F\": \"Female\",\n",
    "    \"Feale\": \"Female\",\n",
    "    \"Femal\": \"Female\",\n",
    "    \"Femmale\": \"Female\",\n",
    "    \"Maale\": \"Male\",\n",
    "    \"Maaaale\": \"Male\",\n",
    "    \"Maa\": \"Male\",\n",
    "    \"Mal e\": \"Male\",\n",
    "    \"Malee\": \"Male\"\n",
    "    }, inplace=True)\n",
    "df[\"gender\"].unique()"
   ]
  },
  {
   "cell_type": "code",
   "execution_count": null,
   "metadata": {},
   "outputs": [],
   "source": [
    "['France', 'Spain', 'GERMANY', 'Paris', 'Germany', 'Gesrmany',\n",
    "       'Franc', 'German', 'Fra_nce', 'GeMrmany', 'Fran', 'Sp']"
   ]
  },
  {
   "cell_type": "code",
   "execution_count": null,
   "metadata": {},
   "outputs": [],
   "source": [
    "df[\"country\"].replace({\n",
    "    \"Paris\": \"France\",\n",
    "    \"Franc\" : \"France\",\n",
    "    \"Fra_nce\" : \"France\",\n",
    "    \"Fran\" : \"France\",\n",
    "    \"GERMANY\" : \"Germany\",\n",
    "    \"Gesrmany\": \"Germany\",\n",
    "    \"German\" : \"Germany\",\n",
    "    \"GeMrmany\" : \"Germany\",\n",
    "    \"Sp\" : \"Spain\"\n",
    "    }, inplace=True)\n",
    "\n",
    "df[\"country\"].unique()"
   ]
  },
  {
   "cell_type": "markdown",
   "metadata": {},
   "source": [
    "# Handling NaN Values"
   ]
  },
  {
   "cell_type": "markdown",
   "metadata": {},
   "source": [
    "Handle Missing Values:\n",
    "\n",
    "Identify missing values in numeric and categorical columns.\n",
    "Use appropriate strategies:\n",
    "- Numeric columns: Fill with mean, median, or another statistical method.\n",
    "- Categorical columns: Fill with mode or \"Unknown.\""
   ]
  },
  {
   "cell_type": "code",
   "execution_count": null,
   "metadata": {},
   "outputs": [],
   "source": [
    "df.isna().sum()[df.isna().sum() > 0]"
   ]
  },
  {
   "cell_type": "code",
   "execution_count": 186,
   "metadata": {},
   "outputs": [],
   "source": [
    "# fill with median\n",
    "df[\"credit_score\"] = df.groupby(\"churn\")[\"credit_score\"].transform(\n",
    "    lambda x: x.fillna(x.median()))\n",
    "\n",
    "df[\"age\"] = df.groupby(\"churn\")[\"age\"].transform(\n",
    "    lambda x: x.fillna(x.median()))\n",
    "\n",
    "# first replace nan with None because youll get an error in the next line when convertign to floats\n",
    "df[\"estimated_salary\"] = df[\"estimated_salary\"].replace(\"no salary\", None)\n",
    "# convert row to floats\n",
    "df[\"estimated_salary\"] = df[\"estimated_salary\"].astype(float)\n",
    "df[\"estimated_salary\"] = df.groupby(\"churn\")[\"estimated_salary\"].transform(\n",
    "    lambda x: x.fillna(x.median()))\n",
    "\n",
    "# fill with mode\n",
    "df[\"products_number\"] = df.groupby(\"churn\")[\"products_number\"].transform(\n",
    "    lambda x: x.fillna(x.mode()[0]))\n",
    "\n",
    "df[\"credit_card\"] = df.groupby(\"churn\")[\"credit_card\"].transform(\n",
    "    lambda x: x.fillna(x.mode()[0]))\n",
    "\n",
    "df[\"active_member\"] = df.groupby(\"churn\")[\"active_member\"].transform(\n",
    "    lambda x: x.fillna(x.mode()[0]))"
   ]
  },
  {
   "cell_type": "code",
   "execution_count": null,
   "metadata": {},
   "outputs": [],
   "source": [
    "df.isna().sum()[df.isna().sum() > 0]"
   ]
  },
  {
   "cell_type": "markdown",
   "metadata": {},
   "source": [
    "# Delete unnecessary columns"
   ]
  },
  {
   "cell_type": "code",
   "execution_count": 188,
   "metadata": {},
   "outputs": [],
   "source": [
    "df.drop(columns=[\"customer_id\"], inplace=True)"
   ]
  },
  {
   "cell_type": "markdown",
   "metadata": {},
   "source": [
    "# Encoding"
   ]
  },
  {
   "cell_type": "code",
   "execution_count": null,
   "metadata": {},
   "outputs": [],
   "source": [
    "df.head(1)"
   ]
  },
  {
   "cell_type": "code",
   "execution_count": 190,
   "metadata": {},
   "outputs": [],
   "source": [
    "cat = [\"gender\", \"country\"]\n",
    "df = pd.get_dummies(df, columns=cat, dtype=int)"
   ]
  },
  {
   "cell_type": "markdown",
   "metadata": {},
   "source": [
    "# Handling outliers"
   ]
  },
  {
   "cell_type": "code",
   "execution_count": null,
   "metadata": {},
   "outputs": [],
   "source": [
    "numerics = [\"credit_score\", \"estimated_salaray\", \"age\", \"balance\"]\n",
    "\n",
    "sns.boxplot(df[\"age\"])\n",
    "plt.title('Age Box Plot - Outliers Detection')\n",
    "plt.xlabel('Age')\n",
    "plt.show()"
   ]
  },
  {
   "cell_type": "code",
   "execution_count": null,
   "metadata": {},
   "outputs": [],
   "source": [
    "age_counts = df[\"age\"].value_counts().sort_index()\n",
    "plt.figure(figsize=(10, 6))  \n",
    "age_counts.plot(kind=\"bar\")\n",
    "plt.xticks(rotation=45, ha=\"right\")  \n",
    "plt.tight_layout()\n",
    "plt.show()"
   ]
  },
  {
   "cell_type": "code",
   "execution_count": null,
   "metadata": {},
   "outputs": [],
   "source": [
    "sns.boxplot(df[\"estimated_salary\"])"
   ]
  },
  {
   "cell_type": "code",
   "execution_count": null,
   "metadata": {},
   "outputs": [],
   "source": [
    "sns.boxplot(df[\"credit_score\"])"
   ]
  },
  {
   "cell_type": "code",
   "execution_count": null,
   "metadata": {},
   "outputs": [],
   "source": [
    "df[\"balance\"].min()"
   ]
  },
  {
   "cell_type": "code",
   "execution_count": null,
   "metadata": {},
   "outputs": [],
   "source": [
    "sns.boxplot(df[\"balance\"])"
   ]
  },
  {
   "cell_type": "code",
   "execution_count": null,
   "metadata": {},
   "outputs": [],
   "source": [
    "# seems okay\n",
    "df[\"age\"].min()"
   ]
  },
  {
   "cell_type": "code",
   "execution_count": 198,
   "metadata": {},
   "outputs": [],
   "source": [
    "# deleting outliers for age\n",
    "outliers_age = df[\"age\"] > 120\n",
    "\n",
    "# deleting unlogical outliers \n",
    "df = df[~outliers_age]"
   ]
  },
  {
   "cell_type": "markdown",
   "metadata": {},
   "source": [
    "**- Credit score, balance and estimated salary are already fine and no more actions have to be taken**"
   ]
  },
  {
   "cell_type": "markdown",
   "metadata": {},
   "source": [
    "# Train test split"
   ]
  },
  {
   "cell_type": "code",
   "execution_count": 199,
   "metadata": {},
   "outputs": [],
   "source": [
    "y = df[\"churn\"]\n",
    "X = df.drop(columns=[\"churn\"])"
   ]
  },
  {
   "cell_type": "code",
   "execution_count": 200,
   "metadata": {},
   "outputs": [],
   "source": [
    "X_train, X_test, y_train, y_test = train_test_split(X,y, test_size=0.2)"
   ]
  },
  {
   "cell_type": "markdown",
   "metadata": {},
   "source": [
    "# Scaling"
   ]
  },
  {
   "cell_type": "code",
   "execution_count": null,
   "metadata": {},
   "outputs": [],
   "source": [
    "df[\"products_number\"].unique()"
   ]
  },
  {
   "cell_type": "code",
   "execution_count": null,
   "metadata": {},
   "outputs": [],
   "source": [
    "df[\"products_number\"].replace({\"np\": \"0\"}, inplace=True)"
   ]
  },
  {
   "cell_type": "code",
   "execution_count": 208,
   "metadata": {},
   "outputs": [],
   "source": [
    "# MinMax because there are no negative values\n",
    "scaler = MinMaxScaler()\n",
    "\n",
    "numerics = [\"credit_score\", \"estimated_salary\", \"age\", \"balance\"]\n",
    "\n",
    "X_train[numerics] = scaler.fit_transform(X_train[numerics])\n",
    "X_test[numerics] = scaler.transform(X_test[numerics])"
   ]
  },
  {
   "cell_type": "code",
   "execution_count": 209,
   "metadata": {},
   "outputs": [],
   "source": [
    "le = LabelEncoder()\n",
    "X_train[\"products_number\"] = le.fit_transform(X_train[\"products_number\"])"
   ]
  },
  {
   "cell_type": "code",
   "execution_count": 210,
   "metadata": {},
   "outputs": [],
   "source": [
    "X_test[\"products_number\"] = le.transform(X_test[\"products_number\"])"
   ]
  },
  {
   "cell_type": "markdown",
   "metadata": {},
   "source": [
    "# Model Training"
   ]
  },
  {
   "cell_type": "code",
   "execution_count": null,
   "metadata": {},
   "outputs": [],
   "source": [
    "rf = RandomForestClassifier()\n",
    "rf.fit(X_train, y_train)\n",
    "pred = rf.predict(X_test)\n",
    "\n",
    "print(classification_report(y_test, pred))"
   ]
  }
 ],
 "metadata": {
  "kernelspec": {
   "display_name": "torch",
   "language": "python",
   "name": "python3"
  },
  "language_info": {
   "codemirror_mode": {
    "name": "ipython",
    "version": 3
   },
   "file_extension": ".py",
   "mimetype": "text/x-python",
   "name": "python",
   "nbconvert_exporter": "python",
   "pygments_lexer": "ipython3",
   "version": "3.9.20"
  }
 },
 "nbformat": 4,
 "nbformat_minor": 2
}
